{
 "cells": [
  {
   "cell_type": "code",
   "execution_count": 1,
   "metadata": {},
   "outputs": [],
   "source": [
    "%matplotlib inline\n",
    "\n",
    "import os\n",
    "\n",
    "import numpy as np\n",
    "import matplotlib.pyplot as plt\n",
    "from scipy import stats\n",
    "\n",
    "plt.style.use('ggplot')"
   ]
  },
  {
   "cell_type": "code",
   "execution_count": 2,
   "metadata": {},
   "outputs": [],
   "source": [
    "def read_data(dir_path, file_prefix, r):\n",
    "    file_path = os.path.join(dir_path, '{}_{}.csv'.format(file_prefix, r))\n",
    "    with open(file_path, 'r') as f:\n",
    "        data = np.fromstring(f.read().strip(), sep=',').astype('int32')\n",
    "    \n",
    "    return data"
   ]
  },
  {
   "cell_type": "markdown",
   "metadata": {},
   "source": [
    "## Market predictability"
   ]
  },
  {
   "cell_type": "markdown",
   "metadata": {},
   "source": [
    "## Market predictability (per agent)"
   ]
  },
  {
   "cell_type": "markdown",
   "metadata": {},
   "source": [
    "## Number of active speculators"
   ]
  },
  {
   "cell_type": "markdown",
   "metadata": {},
   "source": [
    "## Market crashes"
   ]
  },
  {
   "cell_type": "markdown",
   "metadata": {},
   "source": [
    "## Volatility and volume clustering"
   ]
  },
  {
   "cell_type": "code",
   "execution_count": 31,
   "metadata": {},
   "outputs": [
    {
     "data": {
      "text/plain": [
       "[]"
      ]
     },
     "execution_count": 31,
     "metadata": {},
     "output_type": "execute_result"
    },
    {
     "data": {
      "image/png": "[encoded data removed]",
      "text/plain": [
       "<Figure size 432x288 with 1 Axes>"
      ]
     },
     "metadata": {
      "needs_background": "light"
     },
     "output_type": "display_data"
    }
   ],
   "source": [
    "# Parameters\n",
    "s = 2\n",
    "p = 16\n",
    "eps = 0.01\n",
    "n_minority_agents = 0\n",
    "n_producer_agents = 1200\n",
    "n_speculator_agents = 1001\n",
    "n_iters = 50000\n",
    "n_runs = 1\n",
    "\n",
    "start_timestep = 30000\n",
    "\n",
    "# Read data\n",
    "dir_path = '../results/s{}_p{}_eps{:.2f}_nmins{}_npros{}_nspes{}_niters{}_nruns{}/'.format(\n",
    "    s, p, eps, n_minority_agents, n_producer_agents, n_speculator_agents, n_iters, n_runs)\n",
    "\n",
    "excess_demand_history = read_data(dir_path, 'excess_demand_history', 0)\n",
    "excess_demand_history = excess_demand_history[start_timestep:]\n",
    "\n",
    "plt.plot(excess_demand_history)\n",
    "\n",
    "plt.plot()"
   ]
  },
  {
   "cell_type": "code",
   "execution_count": null,
   "metadata": {},
   "outputs": [],
   "source": []
  },
  {
   "cell_type": "markdown",
   "metadata": {},
   "source": [
    "## Autocorrelation of the absolute returns"
   ]
  },
  {
   "cell_type": "code",
   "execution_count": 8,
   "metadata": {},
   "outputs": [],
   "source": [
    "def compute_autocorrelation(x, tau):\n",
    "    x_tau = x[tau:]\n",
    "    \n",
    "    x1 = np.abs(x_tau)\n",
    "    x2 = np.abs(x[:-tau])\n",
    "    \n",
    "    corr, _ = stats.pearsonr(x1, x2)\n",
    "    return corr"
   ]
  },
  {
   "cell_type": "code",
   "execution_count": 23,
   "metadata": {},
   "outputs": [
    {
     "data": {
      "text/plain": [
       "(1e-05, 1)"
      ]
     },
     "execution_count": 23,
     "metadata": {},
     "output_type": "execute_result"
    },
    {
     "data": {
      "image/png": "[encoded data removed]",
      "text/plain": [
       "<Figure size 432x288 with 1 Axes>"
      ]
     },
     "metadata": {
      "needs_background": "light"
     },
     "output_type": "display_data"
    }
   ],
   "source": [
    "# Parameters\n",
    "s = 2\n",
    "p = 16\n",
    "eps = 0.01\n",
    "n_minority_agents = 0\n",
    "n_producer_agents = 1000\n",
    "n_speculator_agents = 501\n",
    "n_iters = 50000\n",
    "n_runs = 1\n",
    "\n",
    "start_timestep = 30000\n",
    "\n",
    "# Read data\n",
    "dir_path = '../results/s{}_p{}_eps{:.2f}_nmins{}_npros{}_nspes{}_niters{}_nruns{}/'.format(\n",
    "    s, p, eps, n_minority_agents, n_producer_agents, n_speculator_agents, n_iters, n_runs)\n",
    "\n",
    "excess_demand_history = read_data(dir_path, 'excess_demand_history', 0)\n",
    "excess_demand_history = excess_demand_history[start_timestep:]\n",
    "\n",
    "taus = np.arange(1, 1001)\n",
    "corrs = np.array([compute_autocorrelation(excess_demand_history, tau) for tau in taus])\n",
    "\n",
    "plt.scatter(taus, corrs)\n",
    "\n",
    "ws = np.float_power(taus, -0.4) * 0.1\n",
    "\n",
    "plt.text(10 * 4, 1e-1, r'$x^{-0.4}$', fontsize=20)\n",
    "\n",
    "plt.plot(taus, ws, c='black')\n",
    "\n",
    "plt.xscale('log')\n",
    "plt.yscale('log')\n",
    "\n",
    "x_max, x_min = 1e+3, 1\n",
    "y_max, y_min = 1, 1e-5\n",
    "\n",
    "plt.xlim(x_min, x_max)\n",
    "plt.ylim(y_min, y_max)"
   ]
  },
  {
   "cell_type": "markdown",
   "metadata": {},
   "source": [
    "## Cumulative distribution of price returns"
   ]
  },
  {
   "cell_type": "code",
   "execution_count": null,
   "metadata": {},
   "outputs": [],
   "source": [
    "def compute_cumulative_distribution(counts):\n",
    "    sum_counts = np.sum(counts)\n",
    "    ys = np.array([np.sum(counts[i:]) / sum_counts for i in range(len(counts))])\n",
    "    return ys"
   ]
  },
  {
   "cell_type": "code",
   "execution_count": 4,
   "metadata": {},
   "outputs": [
    {
     "data": {
      "image/png": "[encoded data removed]",
      "text/plain": [
       "<Figure size 432x288 with 1 Axes>"
      ]
     },
     "metadata": {
      "needs_background": "light"
     },
     "output_type": "display_data"
    }
   ],
   "source": [
    "# Parameters\n",
    "s = 2\n",
    "p = 16\n",
    "eps = 0.01\n",
    "n_minority_agents = 0\n",
    "n_producer_agents = 1200\n",
    "n_speculator_agents = 1001\n",
    "n_iters = 50000\n",
    "n_runs = 1\n",
    "\n",
    "start_timestep = 30000\n",
    "\n",
    "# Read data\n",
    "dir_path = '../results/s{}_p{}_eps{:.2f}_nmins{}_npros{}_nspes{}_niters{}_nruns{}/'.format(\n",
    "    s, p, eps, n_minority_agents, n_producer_agents, n_speculator_agents, n_iters, n_runs)\n",
    "\n",
    "excess_demand_history = read_data(dir_path, 'excess_demand_history', 0)\n",
    "excess_demand_history = excess_demand_history[start_timestep:]\n",
    "\n",
    "x_max = np.max(np.abs(excess_demand_history))\n",
    "x_min = 1\n",
    "\n",
    "return_positive = np.sort(np.array([elem for elem in excess_demand_history if elem > 0]))\n",
    "return_negative = np.sort(np.array([- elem for elem in excess_demand_history if elem < 0]))\n",
    "\n",
    "xs = np.linspace(x_min, x_max, x_max - x_min + 1, dtype='int32')\n",
    "counts_positive, _ = np.histogram(return_positive, bins=xs.tolist() + [x_max + 1])\n",
    "counts_negative, _ = np.histogram(return_positive, bins=xs.tolist() + [x_max + 1])\n",
    "\n",
    "ys_positive = compute_cumulative_distribution(counts_positive)\n",
    "ys_negative = compute_cumulative_distribution(counts_negative)\n",
    "\n",
    "# Divide by return\n",
    "ys_positive /= xs\n",
    "ys_negative /= xs\n",
    "\n",
    "y_max = 1\n",
    "y_min = 1e-6\n",
    "\n",
    "plt.scatter(xs, ys_positive, marker='+', facecolors='blue', edgecolors='none', label='Positive returns', linewidth=.5)\n",
    "plt.scatter(xs, ys_negative, marker='o', facecolors='none', edgecolors='red', label='Negative returns', linewidth=.5)\n",
    "\n",
    "# Powerlaw fitting\n",
    "ws = np.float_power(xs, -3.7) * 100\n",
    "plt.plot(xs, ws, c='black')\n",
    "\n",
    "plt.text(10 * 3, 1e-2 * 0.5, r'$x^{-3.7}$', fontsize=20)\n",
    "\n",
    "plt.xscale('log')\n",
    "plt.yscale('log')\n",
    "\n",
    "plt.xlim(x_min, x_max)\n",
    "plt.ylim(y_min, y_max)\n",
    "\n",
    "plt.legend()\n",
    "\n",
    "plt.show()"
   ]
  },
  {
   "cell_type": "code",
   "execution_count": null,
   "metadata": {},
   "outputs": [],
   "source": []
  }
 ],
 "metadata": {
  "kernelspec": {
   "display_name": "Python 3",
   "language": "python",
   "name": "python3"
  },
  "language_info": {
   "codemirror_mode": {
    "name": "ipython",
    "version": 3
   },
   "file_extension": ".py",
   "mimetype": "text/x-python",
   "name": "python",
   "nbconvert_exporter": "python",
   "pygments_lexer": "ipython3",
   "version": "3.7.1"
  }
 },
 "nbformat": 4,
 "nbformat_minor": 2
}
