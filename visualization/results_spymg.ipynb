{
 "cells": [
  {
   "cell_type": "code",
   "execution_count": 1,
   "metadata": {},
   "outputs": [],
   "source": [
    "%matplotlib inline\n",
    "\n",
    "import os\n",
    "\n",
    "import numpy as np\n",
    "import matplotlib.pyplot as plt\n",
    "from scipy import stats\n",
    "\n",
    "plt.style.use('ggplot')"
   ]
  },
  {
   "cell_type": "code",
   "execution_count": 2,
   "metadata": {},
   "outputs": [],
   "source": [
    "def read_data(dir_path, file_prefix, r):\n",
    "    file_path = os.path.join(dir_path, '{}_{}.csv'.format(file_prefix, r))\n",
    "    with open(file_path, 'r') as f:\n",
    "        data = np.fromstring(f.read().strip(), sep=',').astype('int32')\n",
    "    \n",
    "    return data"
   ]
  },
  {
   "cell_type": "code",
   "execution_count": 32,
   "metadata": {},
   "outputs": [],
   "source": [
    "BUY = 1\n",
    "STAY = 0\n",
    "SELL = -1\n",
    "\n",
    "WIN = 1\n",
    "EVEN = 0\n",
    "LOSE = -1"
   ]
  },
  {
   "cell_type": "markdown",
   "metadata": {},
   "source": [
    "## Standard deviation of market attendances"
   ]
  },
  {
   "cell_type": "code",
   "execution_count": 4,
   "metadata": {},
   "outputs": [
    {
     "data": {
      "image/png": "[encoded data removed]",
      "text/plain": [
       "<Figure size 432x288 with 1 Axes>"
      ]
     },
     "metadata": {
      "needs_background": "light"
     },
     "output_type": "display_data"
    }
   ],
   "source": [
    "# Parameters\n",
    "s = 2\n",
    "p = 16\n",
    "eps = 0\n",
    "n_minority_agents = 101\n",
    "n_producer_agents = 0\n",
    "n_speculator_agents = 0\n",
    "n_iters = 50000\n",
    "n_runs = 1\n",
    "\n",
    "for rhok in [0, 0.2, 0.4, 0.6]:\n",
    "    if rhok == 0:\n",
    "        rhos = 0\n",
    "    else:\n",
    "        rhos = 0.09\n",
    "    xs, ys = [], []\n",
    "    for p in [2, 4, 8, 16, 32, 64, 128, 256, 512, 1024, 2048, 4096, 8192, 16384, 32768]:\n",
    "        # Read data\n",
    "        dir_path = '../simulation_results/s{}_p{}_eps{:.2f}_rhok{:.2f}_rhos{:.2f}_nmins{}_npros{}_nspes{}_niters{}_nruns{}/'.format(\n",
    "            s, p, eps, rhok, rhos, n_minority_agents, n_producer_agents, n_speculator_agents, n_iters, n_runs)\n",
    "        attendance_history = read_data(dir_path, 'excess_demand_history', 0)\n",
    "\n",
    "        xs.append(np.log2(p))\n",
    "        ys.append(np.std(attendance_history))\n",
    "\n",
    "    xs = np.array(xs)\n",
    "    ys = np.array(ys)\n",
    "\n",
    "    plt.scatter(xs, ys, label=r'$\\rho_k = {:.2f}$'.format(rhok))\n",
    "\n",
    "plt.plot(np.arange(1, 16), np.full(15, 10), '--', color='blue')\n",
    "\n",
    "plt.xlim(1, 15)\n",
    "plt.ylim(0, 35)\n",
    "\n",
    "plt.legend()\n",
    "\n",
    "plt.show()"
   ]
  },
  {
   "cell_type": "markdown",
   "metadata": {},
   "source": [
    "## Success rate"
   ]
  },
  {
   "cell_type": "code",
   "execution_count": 5,
   "metadata": {},
   "outputs": [],
   "source": [
    "# Parameters\n",
    "s = 2\n",
    "p = 16\n",
    "eps = 0\n",
    "n_minority_agents = 101\n",
    "n_producer_agents = 0\n",
    "n_speculator_agents = 0\n",
    "n_iters = 50000\n",
    "n_runs = 1"
   ]
  },
  {
   "cell_type": "code",
   "execution_count": 29,
   "metadata": {},
   "outputs": [],
   "source": [
    "def read_2ddata(dir_path, file_prefix, r, dtype='int32'):\n",
    "    file_path = os.path.join(dir_path, '{}_{}.csv'.format(file_prefix, r))\n",
    "    \n",
    "    data = []\n",
    "    for line in open(file_path):\n",
    "        d = np.fromstring(line.strip(), sep=',', dtype=dtype)\n",
    "        data.append(d)\n",
    "    \n",
    "    return np.stack(data, 0)"
   ]
  },
  {
   "cell_type": "code",
   "execution_count": 34,
   "metadata": {},
   "outputs": [],
   "source": [
    "action_histories_minority_game_agents = read_2ddata(dir_path, 'action_histories_minority_game_agents', 0)\n",
    "winning_histories_minority_game_agents = read_2ddata(dir_path, 'winning_histories_minority_game_agents', 0)\n",
    "\n",
    "wins = (winning_histories_minority_game_agents == WIN).sum(1)\n",
    "loses = (winning_histories_minority_game_agents == LOSE).sum(1)\n",
    "\n",
    "success_rate_minority_game_agents = wins / (wins + loses)"
   ]
  },
  {
   "cell_type": "code",
   "execution_count": 44,
   "metadata": {},
   "outputs": [],
   "source": [
    "action_histories_spy_agents = read_2ddata(dir_path, 'action_histories_spy_agents', 0)\n",
    "winning_histories_spy_agents = read_2ddata(dir_path, 'winning_histories_spy_agents', 0)\n",
    "\n",
    "wins = (winning_histories_spy_agents == WIN).sum(1)\n",
    "loses = (winning_histories_spy_agents == LOSE).sum(1)\n",
    "\n",
    "success_rate_spy_agents = wins / (wins + loses)"
   ]
  },
  {
   "cell_type": "code",
   "execution_count": 45,
   "metadata": {},
   "outputs": [
    {
     "data": {
      "text/plain": [
       "array([0.74947714, 0.73833064, 0.72095732, 0.70432075, 0.69177203,\n",
       "       0.68181386, 0.65716798, 0.64347847, 0.62914726])"
      ]
     },
     "execution_count": 45,
     "metadata": {},
     "output_type": "execute_result"
    }
   ],
   "source": [
    "success_rate_spy_agents"
   ]
  },
  {
   "cell_type": "code",
   "execution_count": null,
   "metadata": {},
   "outputs": [],
   "source": []
  }
 ],
 "metadata": {
  "kernelspec": {
   "display_name": "Python 3",
   "language": "python",
   "name": "python3"
  },
  "language_info": {
   "codemirror_mode": {
    "name": "ipython",
    "version": 3
   },
   "file_extension": ".py",
   "mimetype": "text/x-python",
   "name": "python",
   "nbconvert_exporter": "python",
   "pygments_lexer": "ipython3",
   "version": "3.7.1"
  }
 },
 "nbformat": 4,
 "nbformat_minor": 2
}
