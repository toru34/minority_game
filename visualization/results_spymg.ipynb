{
 "cells": [
  {
   "cell_type": "code",
   "execution_count": 2,
   "metadata": {},
   "outputs": [],
   "source": [
    "%matplotlib inline\n",
    "\n",
    "import os\n",
    "\n",
    "import numpy as np\n",
    "import matplotlib.pyplot as plt\n",
    "from scipy import stats\n",
    "\n",
    "plt.style.use('ggplot')"
   ]
  },
  {
   "cell_type": "code",
   "execution_count": 3,
   "metadata": {},
   "outputs": [],
   "source": [
    "def read_data(dir_path, file_prefix, r):\n",
    "    file_path = os.path.join(dir_path, '{}_{}.csv'.format(file_prefix, r))\n",
    "    with open(file_path, 'r') as f:\n",
    "        data = np.fromstring(f.read().strip(), sep=',').astype('int32')\n",
    "    \n",
    "    return data"
   ]
  },
  {
   "cell_type": "code",
   "execution_count": 4,
   "metadata": {},
   "outputs": [],
   "source": [
    "BUY = 1\n",
    "STAY = 0\n",
    "SELL = -1\n",
    "\n",
    "WIN = 1\n",
    "EVEN = 0\n",
    "LOSE = -1"
   ]
  },
  {
   "cell_type": "markdown",
   "metadata": {},
   "source": [
    "## Standard deviation of market attendances"
   ]
  },
  {
   "cell_type": "code",
   "execution_count": 20,
   "metadata": {},
   "outputs": [
    {
     "data": {
      "image/png": "[encoded data removed]",
      "text/plain": [
       "<Figure size 432x288 with 1 Axes>"
      ]
     },
     "metadata": {
      "needs_background": "light"
     },
     "output_type": "display_data"
    }
   ],
   "source": [
    "# Parameters\n",
    "s = 2\n",
    "eps = 0\n",
    "n_minority_agents = 101\n",
    "n_producer_agents = 0\n",
    "n_speculator_agents = 0\n",
    "n_iters = 50000\n",
    "n_runs = 1\n",
    "\n",
    "for rhok in [0, 0.2, 0.4, 0.6]:\n",
    "    if rhok == 0:\n",
    "        rhos = 0\n",
    "    else:\n",
    "        rhos = 0.09\n",
    "    xs, ys = [], []\n",
    "    for p in [2, 4, 8, 16, 32, 64, 128, 256, 512, 1024, 2048, 4095, 8192, 16384]:\n",
    "        # Read data\n",
    "        dir_path = '../simulation_results/s{}_p{}_eps{:.2f}_rhok{:.2f}_rhos{:.2f}_nmins{}_npros{}_nspes{}_niters{}_nruns{}/'.format(\n",
    "            s, p, eps, rhok, rhos, n_minority_agents, n_producer_agents, n_speculator_agents, n_iters, n_runs)\n",
    "#         excess_demand_history = read_data(dir_path, 'excess_demand_history', 0)\n",
    "        history = read_data(dir_path, 'buys_history', 0)\n",
    "\n",
    "        xs.append(np.log2(p))\n",
    "        ys.append(np.std(history))\n",
    "\n",
    "    xs = np.array(xs)\n",
    "    ys = np.array(ys)\n",
    "\n",
    "    plt.scatter(xs, ys, label=r'$\\rho_k = {:.2f}$'.format(rhok))\n",
    "\n",
    "plt.xlim(0, 15)\n",
    "plt.ylim(0, 16)\n",
    "\n",
    "plt.legend()\n",
    "\n",
    "plt.show()"
   ]
  },
  {
   "cell_type": "code",
   "execution_count": 21,
   "metadata": {},
   "outputs": [
    {
     "data": {
      "image/png": "[encoded data removed]",
      "text/plain": [
       "<Figure size 432x288 with 1 Axes>"
      ]
     },
     "metadata": {
      "needs_background": "light"
     },
     "output_type": "display_data"
    }
   ],
   "source": [
    "# Parameters\n",
    "s = 2\n",
    "eps = 0\n",
    "n_minority_agents = 101\n",
    "n_producer_agents = 0\n",
    "n_speculator_agents = 0\n",
    "n_iters = 50000\n",
    "n_runs = 1\n",
    "\n",
    "rhok = 0.2\n",
    "\n",
    "for rhos in [0.09, 0.17, 0.23, 0.28, 0.33]:\n",
    "    xs, ys = [], []\n",
    "    for p in [2, 4, 8, 16, 32, 64, 128, 256, 512, 1024, 2048, 4096, 8192, 16384]:\n",
    "        # Read data\n",
    "        dir_path = '../simulation_results/s{}_p{}_eps{:.2f}_rhok{:.2f}_rhos{:.2f}_nmins{}_npros{}_nspes{}_niters{}_nruns{}/'.format(\n",
    "            s, p, eps, rhok, rhos, n_minority_agents, n_producer_agents, n_speculator_agents, n_iters, n_runs)\n",
    "#         history = read_data(dir_path, 'excess_demand_history', 0)\n",
    "        history = read_data(dir_path, 'buys_history', 0)\n",
    "\n",
    "        xs.append(np.log2(p))\n",
    "        ys.append(np.std(history))\n",
    "\n",
    "    xs = np.array(xs)\n",
    "    ys = np.array(ys)\n",
    "\n",
    "    plt.scatter(xs, ys, label=r'$\\rho_s = {:.2f}$'.format(rhos))\n",
    "\n",
    "plt.xlim(0, 15)\n",
    "plt.ylim(0, 15)\n",
    "\n",
    "plt.legend()\n",
    "\n",
    "plt.show()"
   ]
  },
  {
   "cell_type": "markdown",
   "metadata": {},
   "source": [
    "## Success rate"
   ]
  },
  {
   "cell_type": "code",
   "execution_count": 4,
   "metadata": {},
   "outputs": [],
   "source": [
    "# Parameters\n",
    "s = 2\n",
    "eps = 0\n",
    "rhok = 0.2\n",
    "n_minority_agents = 101\n",
    "n_producer_agents = 0\n",
    "n_speculator_agents = 0\n",
    "n_iters = 50000\n",
    "n_runs = 1"
   ]
  },
  {
   "cell_type": "code",
   "execution_count": 5,
   "metadata": {},
   "outputs": [],
   "source": [
    "def read_2ddata(dir_path, file_prefix, r, dtype='int32'):\n",
    "    file_path = os.path.join(dir_path, '{}_{}.csv'.format(file_prefix, r))\n",
    "    \n",
    "    data = []\n",
    "    for line in open(file_path):\n",
    "        d = np.fromstring(line.strip(), sep=',', dtype=dtype)\n",
    "        data.append(d)\n",
    "    \n",
    "    return np.stack(data, 0)"
   ]
  },
  {
   "cell_type": "code",
   "execution_count": 6,
   "metadata": {},
   "outputs": [],
   "source": [
    "def compute_success_rate(winning_histories):\n",
    "    wins = (winning_histories == WIN).sum(1)\n",
    "    loses = (winning_histories == LOSE).sum(1)\n",
    "    \n",
    "    return np.mean(wins / (wins + loses))"
   ]
  },
  {
   "cell_type": "code",
   "execution_count": 14,
   "metadata": {},
   "outputs": [
    {
     "data": {
      "image/png": "[encoded data removed]",
      "text/plain": [
       "<Figure size 936x720 with 3 Axes>"
      ]
     },
     "metadata": {
      "needs_background": "light"
     },
     "output_type": "display_data"
    }
   ],
   "source": [
    "ps = [4, 64, 1024]\n",
    "rhoss = np.linspace(0.05, 0.5, 10)\n",
    "\n",
    "x_min, x_max = 0.0, 0.5\n",
    "y_min, y_max = 0.0, 1.0\n",
    "\n",
    "fig = plt.figure(figsize=(13, 10))\n",
    "\n",
    "for i, p in enumerate(ps):\n",
    "    xs_mg, xs_spy, ys_mg, ys_spy = [], [], [], []\n",
    "    for rhos in rhoss:\n",
    "        dir_path = '../simulation_results/s{}_p{}_eps{:.2f}_rhok{:.2f}_rhos{:.2f}_nmins{}_npros{}_nspes{}_niters{}_nruns{}/'.format(\n",
    "            s, p, eps, rhok, rhos, n_minority_agents, n_producer_agents, n_speculator_agents, n_iters, n_runs)\n",
    "        winning_histories_mg = read_2ddata(dir_path, 'winning_histories_minority_game_agents', 0)\n",
    "        winning_histories_spy = read_2ddata(dir_path, 'winning_histories_spy_agents', 0)\n",
    "        \n",
    "        success_rate_mg = compute_success_rate(winning_histories_mg)\n",
    "        success_rate_spy = compute_success_rate(winning_histories_spy)\n",
    "        \n",
    "        xs_mg.append(rhos)\n",
    "        xs_spy.append(rhos)\n",
    "        ys_mg.append(success_rate_mg)\n",
    "        ys_spy.append(success_rate_spy)\n",
    "    \n",
    "    ax = fig.add_subplot(2, 2, i + 1)\n",
    "    ax.scatter(xs_mg, ys_mg, label=r'MG')\n",
    "    ax.scatter(xs_spy, ys_spy, label=r'Spy')\n",
    "    \n",
    "    ax.set_xlim(x_min, x_max)\n",
    "    ax.set_ylim(y_min, y_max)\n",
    "    \n",
    "    ax.set_title(r'$P = {}  (M = {})$'.format(p, int(np.log2(p))))\n",
    "    \n",
    "    ax.legend()\n",
    "\n",
    "plt.show()"
   ]
  },
  {
   "cell_type": "code",
   "execution_count": null,
   "metadata": {},
   "outputs": [],
   "source": []
  }
 ],
 "metadata": {
  "kernelspec": {
   "display_name": "Python 3",
   "language": "python",
   "name": "python3"
  },
  "language_info": {
   "codemirror_mode": {
    "name": "ipython",
    "version": 3
   },
   "file_extension": ".py",
   "mimetype": "text/x-python",
   "name": "python",
   "nbconvert_exporter": "python",
   "pygments_lexer": "ipython3",
   "version": "3.6.7"
  }
 },
 "nbformat": 4,
 "nbformat_minor": 2
}
