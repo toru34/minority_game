{
 "cells": [
  {
   "cell_type": "code",
   "execution_count": 1,
   "metadata": {},
   "outputs": [],
   "source": [
    "%matplotlib inline\n",
    "\n",
    "import os\n",
    "\n",
    "import numpy as np\n",
    "import matplotlib.pyplot as plt\n",
    "from scipy import stats\n",
    "\n",
    "plt.style.use('ggplot')"
   ]
  },
  {
   "cell_type": "code",
   "execution_count": 2,
   "metadata": {},
   "outputs": [],
   "source": [
    "def read_data(dir_path, file_prefix, r):\n",
    "    file_path = os.path.join(dir_path, '{}_{}.csv'.format(file_prefix, r))\n",
    "    with open(file_path, 'r') as f:\n",
    "        data = np.fromstring(f.read().strip(), sep=',').astype('int32')\n",
    "    \n",
    "    return data"
   ]
  },
  {
   "cell_type": "markdown",
   "metadata": {},
   "source": [
    "## Standard deviation of market attendances"
   ]
  },
  {
   "cell_type": "code",
   "execution_count": 6,
   "metadata": {},
   "outputs": [
    {
     "data": {
      "text/plain": [
       "[]"
      ]
     },
     "execution_count": 6,
     "metadata": {},
     "output_type": "execute_result"
    },
    {
     "data": {
      "image/png": "[encoded data removed]",
      "text/plain": [
       "<Figure size 432x288 with 1 Axes>"
      ]
     },
     "metadata": {
      "needs_background": "light"
     },
     "output_type": "display_data"
    }
   ],
   "source": [
    "# Parameters\n",
    "s = 2\n",
    "p = 16\n",
    "eps = 0\n",
    "n_minority_agents = 101\n",
    "n_producer_agents = 0\n",
    "n_speculator_agents = 0\n",
    "n_spy_agents = 0\n",
    "n_agents = n_minority_agents + n_producer_agents + n_speculator_agents + n_spy_agents\n",
    "n_iters = 50000\n",
    "n_runs = 1\n",
    "rhok = 0\n",
    "rhos = 0\n",
    "\n",
    "start_timestep = 30000\n",
    "\n",
    "xs, ys = [], []\n",
    "\n",
    "for p in [2, 4, 8, 16, 32, 64, 128, 256, 512, 1024, 2048, 4096, 8192, 16384, 32768]:\n",
    "    # Read data\n",
    "    dir_path = '../data/simulation/s{}_p{}_eps{:.2f}_rhok{:.2f}_rhos{:.2f}_nmins{}_npros{}_nspes{}_niters{}_nruns{}/'.format(\n",
    "        s, p, eps, rhok, rhos, n_minority_agents, n_producer_agents, n_speculator_agents, n_iters, n_runs)\n",
    "    attendance_history = read_data(dir_path, 'excess_demand_history', 0)\n",
    "\n",
    "    xs.append(np.log2(p))\n",
    "    ys.append(np.std(attendance_history))\n",
    "\n",
    "xs = np.array(xs)\n",
    "ys = np.array(ys)\n",
    "\n",
    "plt.scatter(xs, ys)\n",
    "\n",
    "plt.plot(np.arange(1, 16), np.full(15, 10), '--', color='blue')\n",
    "\n",
    "plt.xlim(1, 15)\n",
    "plt.ylim(0, 35)\n",
    "\n",
    "plt.plot()"
   ]
  }
 ],
 "metadata": {
  "kernelspec": {
   "display_name": "Python 3",
   "language": "python",
   "name": "python3"
  },
  "language_info": {
   "codemirror_mode": {
    "name": "ipython",
    "version": 3
   },
   "file_extension": ".py",
   "mimetype": "text/x-python",
   "name": "python",
   "nbconvert_exporter": "python",
   "pygments_lexer": "ipython3",
   "version": "3.6.8"
  }
 },
 "nbformat": 4,
 "nbformat_minor": 2
}
